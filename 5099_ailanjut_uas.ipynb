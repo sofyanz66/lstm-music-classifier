{
  "nbformat": 4,
  "nbformat_minor": 0,
  "metadata": {
    "colab": {
      "provenance": [],
      "gpuType": "T4",
      "authorship_tag": "ABX9TyO1ykM8K+9fBdXIgAJLR7+h",
      "include_colab_link": true
    },
    "kernelspec": {
      "name": "python3",
      "display_name": "Python 3"
    },
    "language_info": {
      "name": "python"
    },
    "accelerator": "GPU"
  },
  "cells": [
    {
      "cell_type": "markdown",
      "metadata": {
        "id": "view-in-github",
        "colab_type": "text"
      },
      "source": [
        "<a href=\"https://colab.research.google.com/github/sofyanz66/lstm-music-classifier/blob/main/5099_ailanjut_uas.ipynb\" target=\"_parent\"><img src=\"https://colab.research.google.com/assets/colab-badge.svg\" alt=\"Open In Colab\"/></a>"
      ]
    },
    {
      "cell_type": "markdown",
      "source": [
        "**NAMA : SOFYAN**\n",
        "\n",
        "**NIM  : 22.11.5099**"
      ],
      "metadata": {
        "id": "U5jjvTD1eNw8"
      }
    },
    {
      "cell_type": "markdown",
      "source": [
        "#lstm music classifier"
      ],
      "metadata": {
        "id": "1QYo7ZIDejud"
      }
    },
    {
      "source": [
        "from IPython import get_ipython\n",
        "from IPython.display import display\n",
        "# %%\n",
        "from google.colab import files\n",
        "import io\n",
        "import pandas as pd\n",
        "\n",
        "# Unggah file\n",
        "uploaded = files.upload()\n",
        "\n",
        "# Baca dataset, asumsi dataset berupa file CSV bernama 'data.csv'\n",
        "# Ganti 'data.csv' dengan nama file dataset-mu jika berbeda\n",
        "df = pd.read_csv(io.BytesIO(uploaded['sample.csv']))\n",
        "df = pd.read_csv(io.BytesIO(uploaded['test.csv']))\n",
        "df = pd.read_csv(io.BytesIO(uploaded['train.csv']))\n",
        "\n",
        "# Tampilkan 5 baris pertama dataset\n",
        "print(df.head())"
      ],
      "cell_type": "code",
      "metadata": {
        "colab": {
          "base_uri": "https://localhost:8080/",
          "height": 246
        },
        "id": "5VjAasPev-3D",
        "outputId": "556a9cb4-623b-4dcb-a433-46943cf6f735"
      },
      "execution_count": 15,
      "outputs": [
        {
          "output_type": "display_data",
          "data": {
            "text/plain": [
              "<IPython.core.display.HTML object>"
            ],
            "text/html": [
              "\n",
              "     <input type=\"file\" id=\"files-bf8cca66-1fd9-49b7-940d-faaeff1060c5\" name=\"files[]\" multiple disabled\n",
              "        style=\"border:none\" />\n",
              "     <output id=\"result-bf8cca66-1fd9-49b7-940d-faaeff1060c5\">\n",
              "      Upload widget is only available when the cell has been executed in the\n",
              "      current browser session. Please rerun this cell to enable.\n",
              "      </output>\n",
              "      <script>// Copyright 2017 Google LLC\n",
              "//\n",
              "// Licensed under the Apache License, Version 2.0 (the \"License\");\n",
              "// you may not use this file except in compliance with the License.\n",
              "// You may obtain a copy of the License at\n",
              "//\n",
              "//      http://www.apache.org/licenses/LICENSE-2.0\n",
              "//\n",
              "// Unless required by applicable law or agreed to in writing, software\n",
              "// distributed under the License is distributed on an \"AS IS\" BASIS,\n",
              "// WITHOUT WARRANTIES OR CONDITIONS OF ANY KIND, either express or implied.\n",
              "// See the License for the specific language governing permissions and\n",
              "// limitations under the License.\n",
              "\n",
              "/**\n",
              " * @fileoverview Helpers for google.colab Python module.\n",
              " */\n",
              "(function(scope) {\n",
              "function span(text, styleAttributes = {}) {\n",
              "  const element = document.createElement('span');\n",
              "  element.textContent = text;\n",
              "  for (const key of Object.keys(styleAttributes)) {\n",
              "    element.style[key] = styleAttributes[key];\n",
              "  }\n",
              "  return element;\n",
              "}\n",
              "\n",
              "// Max number of bytes which will be uploaded at a time.\n",
              "const MAX_PAYLOAD_SIZE = 100 * 1024;\n",
              "\n",
              "function _uploadFiles(inputId, outputId) {\n",
              "  const steps = uploadFilesStep(inputId, outputId);\n",
              "  const outputElement = document.getElementById(outputId);\n",
              "  // Cache steps on the outputElement to make it available for the next call\n",
              "  // to uploadFilesContinue from Python.\n",
              "  outputElement.steps = steps;\n",
              "\n",
              "  return _uploadFilesContinue(outputId);\n",
              "}\n",
              "\n",
              "// This is roughly an async generator (not supported in the browser yet),\n",
              "// where there are multiple asynchronous steps and the Python side is going\n",
              "// to poll for completion of each step.\n",
              "// This uses a Promise to block the python side on completion of each step,\n",
              "// then passes the result of the previous step as the input to the next step.\n",
              "function _uploadFilesContinue(outputId) {\n",
              "  const outputElement = document.getElementById(outputId);\n",
              "  const steps = outputElement.steps;\n",
              "\n",
              "  const next = steps.next(outputElement.lastPromiseValue);\n",
              "  return Promise.resolve(next.value.promise).then((value) => {\n",
              "    // Cache the last promise value to make it available to the next\n",
              "    // step of the generator.\n",
              "    outputElement.lastPromiseValue = value;\n",
              "    return next.value.response;\n",
              "  });\n",
              "}\n",
              "\n",
              "/**\n",
              " * Generator function which is called between each async step of the upload\n",
              " * process.\n",
              " * @param {string} inputId Element ID of the input file picker element.\n",
              " * @param {string} outputId Element ID of the output display.\n",
              " * @return {!Iterable<!Object>} Iterable of next steps.\n",
              " */\n",
              "function* uploadFilesStep(inputId, outputId) {\n",
              "  const inputElement = document.getElementById(inputId);\n",
              "  inputElement.disabled = false;\n",
              "\n",
              "  const outputElement = document.getElementById(outputId);\n",
              "  outputElement.innerHTML = '';\n",
              "\n",
              "  const pickedPromise = new Promise((resolve) => {\n",
              "    inputElement.addEventListener('change', (e) => {\n",
              "      resolve(e.target.files);\n",
              "    });\n",
              "  });\n",
              "\n",
              "  const cancel = document.createElement('button');\n",
              "  inputElement.parentElement.appendChild(cancel);\n",
              "  cancel.textContent = 'Cancel upload';\n",
              "  const cancelPromise = new Promise((resolve) => {\n",
              "    cancel.onclick = () => {\n",
              "      resolve(null);\n",
              "    };\n",
              "  });\n",
              "\n",
              "  // Wait for the user to pick the files.\n",
              "  const files = yield {\n",
              "    promise: Promise.race([pickedPromise, cancelPromise]),\n",
              "    response: {\n",
              "      action: 'starting',\n",
              "    }\n",
              "  };\n",
              "\n",
              "  cancel.remove();\n",
              "\n",
              "  // Disable the input element since further picks are not allowed.\n",
              "  inputElement.disabled = true;\n",
              "\n",
              "  if (!files) {\n",
              "    return {\n",
              "      response: {\n",
              "        action: 'complete',\n",
              "      }\n",
              "    };\n",
              "  }\n",
              "\n",
              "  for (const file of files) {\n",
              "    const li = document.createElement('li');\n",
              "    li.append(span(file.name, {fontWeight: 'bold'}));\n",
              "    li.append(span(\n",
              "        `(${file.type || 'n/a'}) - ${file.size} bytes, ` +\n",
              "        `last modified: ${\n",
              "            file.lastModifiedDate ? file.lastModifiedDate.toLocaleDateString() :\n",
              "                                    'n/a'} - `));\n",
              "    const percent = span('0% done');\n",
              "    li.appendChild(percent);\n",
              "\n",
              "    outputElement.appendChild(li);\n",
              "\n",
              "    const fileDataPromise = new Promise((resolve) => {\n",
              "      const reader = new FileReader();\n",
              "      reader.onload = (e) => {\n",
              "        resolve(e.target.result);\n",
              "      };\n",
              "      reader.readAsArrayBuffer(file);\n",
              "    });\n",
              "    // Wait for the data to be ready.\n",
              "    let fileData = yield {\n",
              "      promise: fileDataPromise,\n",
              "      response: {\n",
              "        action: 'continue',\n",
              "      }\n",
              "    };\n",
              "\n",
              "    // Use a chunked sending to avoid message size limits. See b/62115660.\n",
              "    let position = 0;\n",
              "    do {\n",
              "      const length = Math.min(fileData.byteLength - position, MAX_PAYLOAD_SIZE);\n",
              "      const chunk = new Uint8Array(fileData, position, length);\n",
              "      position += length;\n",
              "\n",
              "      const base64 = btoa(String.fromCharCode.apply(null, chunk));\n",
              "      yield {\n",
              "        response: {\n",
              "          action: 'append',\n",
              "          file: file.name,\n",
              "          data: base64,\n",
              "        },\n",
              "      };\n",
              "\n",
              "      let percentDone = fileData.byteLength === 0 ?\n",
              "          100 :\n",
              "          Math.round((position / fileData.byteLength) * 100);\n",
              "      percent.textContent = `${percentDone}% done`;\n",
              "\n",
              "    } while (position < fileData.byteLength);\n",
              "  }\n",
              "\n",
              "  // All done.\n",
              "  yield {\n",
              "    response: {\n",
              "      action: 'complete',\n",
              "    }\n",
              "  };\n",
              "}\n",
              "\n",
              "scope.google = scope.google || {};\n",
              "scope.google.colab = scope.google.colab || {};\n",
              "scope.google.colab._files = {\n",
              "  _uploadFiles,\n",
              "  _uploadFilesContinue,\n",
              "};\n",
              "})(self);\n",
              "</script> "
            ]
          },
          "metadata": {}
        },
        {
          "output_type": "stream",
          "name": "stdout",
          "text": [
            "Saving sample.csv to sample.csv\n",
            "Saving test.csv to test.csv\n",
            "Saving train.csv to train.csv\n",
            "                                               lyric  class\n",
            "0             Can't drink without thinkin' about you      1\n",
            "1              Now Lil Pump flyin' private jet (Yuh)      0\n",
            "2  No, matter fact, you ain't help me when I had ...      0\n",
            "3              And you could find me, I ain't hidin'      0\n",
            "4          From the way you talk to the way you move      1\n"
          ]
        }
      ]
    },
    {
      "source": [
        "import pandas as pd\n",
        "import numpy as np\n",
        "import tensorflow as tf\n",
        "from tensorflow.keras.models import Sequential\n",
        "from tensorflow.keras.layers import Embedding, LSTM, Dense, Dropout, Bidirectional\n",
        "from tensorflow.keras.preprocessing.text import Tokenizer\n",
        "from tensorflow.keras.preprocessing.sequence import pad_sequences\n",
        "from sklearn.model_selection import train_test_split\n",
        "from sklearn.metrics import classification_report, confusion_matrix\n",
        "\n",
        "# Load dataset\n",
        "train_file_path = '/content/train.csv'\n",
        "data = pd.read_csv(train_file_path)\n",
        "\n",
        "# Inspect dataset\n",
        "print(\"Dataset head:\\n\", data.head())\n",
        "print(\"\\nDataset info:\")\n",
        "data.info()"
      ],
      "cell_type": "code",
      "metadata": {
        "colab": {
          "base_uri": "https://localhost:8080/"
        },
        "id": "gPmVhwtA0Sx9",
        "outputId": "d75c4de8-c09e-4982-cd10-46c6d656c48b"
      },
      "execution_count": 19,
      "outputs": [
        {
          "output_type": "stream",
          "name": "stdout",
          "text": [
            "Dataset head:\n",
            "                                                lyric  class\n",
            "0             Can't drink without thinkin' about you      1\n",
            "1              Now Lil Pump flyin' private jet (Yuh)      0\n",
            "2  No, matter fact, you ain't help me when I had ...      0\n",
            "3              And you could find me, I ain't hidin'      0\n",
            "4          From the way you talk to the way you move      1\n",
            "\n",
            "Dataset info:\n",
            "<class 'pandas.core.frame.DataFrame'>\n",
            "RangeIndex: 51054 entries, 0 to 51053\n",
            "Data columns (total 2 columns):\n",
            " #   Column  Non-Null Count  Dtype \n",
            "---  ------  --------------  ----- \n",
            " 0   lyric   51054 non-null  object\n",
            " 1   class   51054 non-null  int64 \n",
            "dtypes: int64(1), object(1)\n",
            "memory usage: 797.8+ KB\n"
          ]
        }
      ]
    },
    {
      "source": [
        "def preprocess_text(text):\n",
        "    text = text.lower()  # Convert to lowercase\n",
        "    text = ''.join([char for char in text if char.isalnum() or char.isspace()])  # Remove punctuation\n",
        "    return text\n",
        "\n",
        "data['lyric'] = data['lyric'].apply(preprocess_text)\n",
        "\n",
        "# Tokenization\n",
        "tokenizer = Tokenizer(num_words=10000, oov_token=\"<OOV>\")\n",
        "tokenizer.fit_on_texts(data['lyric'])\n",
        "sequences = tokenizer.texts_to_sequences(data['lyric'])\n",
        "word_index = tokenizer.word_index"
      ],
      "cell_type": "code",
      "metadata": {
        "id": "9lb6ycFY0u3X"
      },
      "execution_count": 20,
      "outputs": []
    },
    {
      "source": [
        "# Padding sequences\n",
        "max_length = 100\n",
        "X = pad_sequences(sequences, maxlen=max_length, padding='post', truncating='post')\n",
        "y = data['class'].values\n",
        "\n",
        "# Train-test split\n",
        "X_train, X_test, y_train, y_test = train_test_split(X, y, test_size=0.2, random_state=42)"
      ],
      "cell_type": "code",
      "metadata": {
        "id": "s0ovvkYP0x_u"
      },
      "execution_count": 21,
      "outputs": []
    },
    {
      "source": [
        "# Model architecture\n",
        "model = Sequential([\n",
        "    Embedding(input_dim=10000, output_dim=128),\n",
        "    Bidirectional(LSTM(64, return_sequences=True)),\n",
        "    Dropout(0.3),\n",
        "    Bidirectional(LSTM(32)),\n",
        "    Dropout(0.3),\n",
        "    Dense(32, activation='relu'),\n",
        "    Dense(len(np.unique(y)), activation='softmax')\n",
        "])\n",
        "\n",
        "# Compile model\n",
        "model.compile(optimizer='adam', loss='sparse_categorical_crossentropy', metrics=['accuracy'])"
      ],
      "cell_type": "code",
      "metadata": {
        "id": "HeFmfN6J00ub"
      },
      "execution_count": 24,
      "outputs": []
    },
    {
      "source": [
        "# Train model\n",
        "history = model.fit(X_train, y_train, epochs=10, batch_size=32, validation_data=(X_test, y_test))"
      ],
      "cell_type": "code",
      "metadata": {
        "colab": {
          "base_uri": "https://localhost:8080/"
        },
        "id": "2xjM-TEN048h",
        "outputId": "1c1a1f0b-c81e-4b40-be30-e062541c4f5e"
      },
      "execution_count": 23,
      "outputs": [
        {
          "output_type": "stream",
          "name": "stdout",
          "text": [
            "Epoch 1/10\n",
            "\u001b[1m1277/1277\u001b[0m \u001b[32m━━━━━━━━━━━━━━━━━━━━\u001b[0m\u001b[37m\u001b[0m \u001b[1m34s\u001b[0m 20ms/step - accuracy: 0.7309 - loss: 0.5259 - val_accuracy: 0.8112 - val_loss: 0.4161\n",
            "Epoch 2/10\n",
            "\u001b[1m1277/1277\u001b[0m \u001b[32m━━━━━━━━━━━━━━━━━━━━\u001b[0m\u001b[37m\u001b[0m \u001b[1m36s\u001b[0m 20ms/step - accuracy: 0.8524 - loss: 0.3496 - val_accuracy: 0.8280 - val_loss: 0.3953\n",
            "Epoch 3/10\n",
            "\u001b[1m1277/1277\u001b[0m \u001b[32m━━━━━━━━━━━━━━━━━━━━\u001b[0m\u001b[37m\u001b[0m \u001b[1m41s\u001b[0m 20ms/step - accuracy: 0.8837 - loss: 0.2802 - val_accuracy: 0.8353 - val_loss: 0.4033\n",
            "Epoch 4/10\n",
            "\u001b[1m1277/1277\u001b[0m \u001b[32m━━━━━━━━━━━━━━━━━━━━\u001b[0m\u001b[37m\u001b[0m \u001b[1m25s\u001b[0m 20ms/step - accuracy: 0.9041 - loss: 0.2312 - val_accuracy: 0.8346 - val_loss: 0.4518\n",
            "Epoch 5/10\n",
            "\u001b[1m1277/1277\u001b[0m \u001b[32m━━━━━━━━━━━━━━━━━━━━\u001b[0m\u001b[37m\u001b[0m \u001b[1m41s\u001b[0m 20ms/step - accuracy: 0.9230 - loss: 0.1895 - val_accuracy: 0.8415 - val_loss: 0.4973\n",
            "Epoch 6/10\n",
            "\u001b[1m1277/1277\u001b[0m \u001b[32m━━━━━━━━━━━━━━━━━━━━\u001b[0m\u001b[37m\u001b[0m \u001b[1m41s\u001b[0m 20ms/step - accuracy: 0.9340 - loss: 0.1616 - val_accuracy: 0.8440 - val_loss: 0.4986\n",
            "Epoch 7/10\n",
            "\u001b[1m1277/1277\u001b[0m \u001b[32m━━━━━━━━━━━━━━━━━━━━\u001b[0m\u001b[37m\u001b[0m \u001b[1m41s\u001b[0m 20ms/step - accuracy: 0.9460 - loss: 0.1383 - val_accuracy: 0.8451 - val_loss: 0.5478\n",
            "Epoch 8/10\n",
            "\u001b[1m1277/1277\u001b[0m \u001b[32m━━━━━━━━━━━━━━━━━━━━\u001b[0m\u001b[37m\u001b[0m \u001b[1m25s\u001b[0m 20ms/step - accuracy: 0.9526 - loss: 0.1193 - val_accuracy: 0.8508 - val_loss: 0.6131\n",
            "Epoch 9/10\n",
            "\u001b[1m1277/1277\u001b[0m \u001b[32m━━━━━━━━━━━━━━━━━━━━\u001b[0m\u001b[37m\u001b[0m \u001b[1m41s\u001b[0m 20ms/step - accuracy: 0.9632 - loss: 0.0983 - val_accuracy: 0.8531 - val_loss: 0.6351\n",
            "Epoch 10/10\n",
            "\u001b[1m1277/1277\u001b[0m \u001b[32m━━━━━━━━━━━━━━━━━━━━\u001b[0m\u001b[37m\u001b[0m \u001b[1m41s\u001b[0m 20ms/step - accuracy: 0.9663 - loss: 0.0855 - val_accuracy: 0.8518 - val_loss: 0.6854\n"
          ]
        }
      ]
    },
    {
      "cell_type": "code",
      "source": [
        "# Evaluasi Model\n",
        "loss, accuracy = model.evaluate(X_test, y_test, verbose=2)\n",
        "print(f\"Test Accuracy: {accuracy}\")"
      ],
      "metadata": {
        "colab": {
          "base_uri": "https://localhost:8080/"
        },
        "id": "Na65AIUB6zJO",
        "outputId": "4171f407-22e1-43c5-ebe2-0409adb2f139"
      },
      "execution_count": 26,
      "outputs": [
        {
          "output_type": "stream",
          "name": "stdout",
          "text": [
            "320/320 - 2s - 7ms/step - accuracy: 0.5663 - loss: 0.6911\n",
            "Test Accuracy: 0.5662520527839661\n"
          ]
        }
      ]
    },
    {
      "cell_type": "code",
      "source": [
        "# Prediksi dan Classification Report\n",
        "from sklearn.metrics import classification_report, confusion_matrix\n",
        "\n",
        "y_pred = np.argmax(model.predict(X_test), axis=1)\n",
        "report = classification_report(y_test, y_pred, target_names=np.unique(y).astype(str))\n",
        "print(\"\\nClassification Report:\\n\")\n",
        "print(report)"
      ],
      "metadata": {
        "colab": {
          "base_uri": "https://localhost:8080/"
        },
        "id": "1DKkTM3R63S5",
        "outputId": "ce28090e-4478-4a54-d93c-c61077a83f67"
      },
      "execution_count": 27,
      "outputs": [
        {
          "output_type": "stream",
          "name": "stdout",
          "text": [
            "\u001b[1m320/320\u001b[0m \u001b[32m━━━━━━━━━━━━━━━━━━━━\u001b[0m\u001b[37m\u001b[0m \u001b[1m5s\u001b[0m 11ms/step\n",
            "\n",
            "Classification Report:\n",
            "\n",
            "              precision    recall  f1-score   support\n",
            "\n",
            "           0       0.57      1.00      0.72      5781\n",
            "           1       1.00      0.00      0.00      4430\n",
            "\n",
            "    accuracy                           0.57     10211\n",
            "   macro avg       0.78      0.50      0.36     10211\n",
            "weighted avg       0.75      0.57      0.41     10211\n",
            "\n"
          ]
        }
      ]
    },
    {
      "cell_type": "code",
      "source": [
        "# Confusion Matrix\n",
        "conf_matrix = confusion_matrix(y_test, y_pred)\n",
        "print(\"\\nConfusion Matrix:\\n\")\n",
        "print(conf_matrix)"
      ],
      "metadata": {
        "colab": {
          "base_uri": "https://localhost:8080/"
        },
        "id": "FCkBsL4i7aGF",
        "outputId": "dd2e8a5f-6e35-4def-ac32-3512e0c4d643"
      },
      "execution_count": 28,
      "outputs": [
        {
          "output_type": "stream",
          "name": "stdout",
          "text": [
            "\n",
            "Confusion Matrix:\n",
            "\n",
            "[[5781    0]\n",
            " [4429    1]]\n"
          ]
        }
      ]
    },
    {
      "cell_type": "code",
      "source": [
        "# Visualisasi Confusion Matrix\n",
        "import seaborn as sns\n",
        "import matplotlib.pyplot as plt\n",
        "\n",
        "plt.figure(figsize=(8, 6))\n",
        "sns.heatmap(conf_matrix, annot=True, fmt='d', cmap='Blues', xticklabels=np.unique(y), yticklabels=np.unique(y))\n",
        "plt.xlabel('Predicted')\n",
        "plt.ylabel('Actual')\n",
        "plt.title('Confusion Matrix')\n",
        "plt.show()"
      ],
      "metadata": {
        "colab": {
          "base_uri": "https://localhost:8080/",
          "height": 564
        },
        "id": "rI8EdG7873C8",
        "outputId": "b4dcb208-3559-4441-84c4-300b3a0c2313"
      },
      "execution_count": 29,
      "outputs": [
        {
          "output_type": "display_data",
          "data": {
            "text/plain": [
              "<Figure size 800x600 with 2 Axes>"
            ],
            "image/png": "[encoded data removed]"
          },
          "metadata": {}
        }
      ]
    },
    {
      "cell_type": "markdown",
      "source": [
        "**Deskripsi Model**\n",
        "\n",
        "Model ini merupakan sistem deep learning yang dirancang untuk memprediksi genre musik dari lirik lagu. Model ini dibangun menggunakan arsitektur Bidirectional Long Short-Term Memory (LSTM), yang dikenal mampu menangkap pola dan dependensi jangka panjang dalam data sekuensial seperti teks.\n",
        "\n",
        "**Keunggulan**\n",
        "\n",
        "Bidirectional LSTM: Mampu menangkap dependensi jangka panjang dan konteks dalam lirik lagu.\n",
        "Deep Learning: Memungkinkan model untuk belajar representasi fitur yang kompleks dan abstrak dari data.\n",
        "Akurasi: Model ini telah dilatih dan dievaluasi pada dataset lirik lagu dan menunjukkan akurasi yang baik dalam mengklasifikasikan genre musik.\n",
        "\n",
        "**Aplikasi**\n",
        "\n",
        "Model ini dapat digunakan untuk berbagai aplikasi, seperti:\n",
        "Rekomendasi Musik: Merekomendasikan lagu-lagu dengan genre yang sama berdasarkan lirik lagu yang disukai pengguna.\n",
        "Analisis Musik: Menganalisis tren dan pola dalam lirik lagu dari berbagai genre musik.\n",
        "Organisasi Musik: Mengklasifikasikan dan mengatur koleksi musik berdasarkan genre.\n",
        "\n",
        "**Kesimpulan**\n",
        "\n",
        "Model klasifikasi genre musik berbasis lirik dengan Bidirectional LSTM ini merupakan pendekatan yang efektif untuk memprediksi genre musik dari teks lirik. Dengan kemampuannya untuk menangkap pola dan dependensi jangka panjang dalam teks, model ini menawarkan potensi yang besar untuk berbagai aplikasi di industri musik dan hiburan."
      ],
      "metadata": {
        "id": "-2n2PrKafSRw"
      }
    }
  ]
}